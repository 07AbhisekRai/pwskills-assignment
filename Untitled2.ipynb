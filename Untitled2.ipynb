{
  "nbformat": 4,
  "nbformat_minor": 0,
  "metadata": {
    "colab": {
      "provenance": []
    },
    "kernelspec": {
      "name": "python3",
      "display_name": "Python 3"
    },
    "language_info": {
      "name": "python"
    }
  },
  "cells": [
    {
      "cell_type": "code",
      "execution_count": null,
      "metadata": {
        "id": "G8bBW-TvSIck"
      },
      "outputs": [],
      "source": []
    },
    {
      "cell_type": "code",
      "source": [
        "from google.colab import drive\n",
        "drive.mount('/content/drive')"
      ],
      "metadata": {
        "id": "wfEinUPpHI8T"
      },
      "execution_count": null,
      "outputs": []
    },
    {
      "cell_type": "markdown",
      "source": [
        "What is python, and why is it popular?\n",
        "Python is a high-level, interpreted programming language that is widely used for various purpose such as web development,scientific computing,data analysis,artificial intelligence,and more.\n",
        "Python is popular for.\n",
        "1.Easy to learn.\n",
        "2.Versatile.\n",
        "3.Large community.\n",
        "4.Extensive libraries.\n",
        "\n"
      ],
      "metadata": {
        "id": "PRXXlWYFSd_q"
      }
    },
    {
      "cell_type": "code",
      "source": [
        "#Write a python program to print(\"Hello, World\")\n",
        "print(\"Hello, World\")\n"
      ],
      "metadata": {
        "id": "YbA1LNcHWSN_"
      },
      "execution_count": null,
      "outputs": []
    },
    {
      "cell_type": "markdown",
      "source": [
        "# New Section"
      ],
      "metadata": {
        "id": "O_eqpiHCALDl"
      }
    },
    {
      "cell_type": "code",
      "source": [
        "#Write a python program that displays your name and age:\n",
        "\n",
        "#Define your name and age\n",
        "name = \"Your Name\"\n",
        "age = 25\n",
        "#print your name and age\n",
        "print(\"Name:\", name)\n",
        "print(\"Age:\", age)\n",
        "\n",
        "Replace \"Your Name\" with your actual name and 25 with your actual age.\n"
      ],
      "metadata": {
        "id": "_JdwDc78WX4d"
      },
      "execution_count": null,
      "outputs": []
    },
    {
      "cell_type": "markdown",
      "source": [
        "What is an interpreter in python?\n",
        "In Python, an interpreter is a program that directly executes the Python code, line by line, without compiling it first.It translates the code into machine code and executes it immediately.\n"
      ],
      "metadata": {
        "id": "1llTIxBBXg6v"
      }
    },
    {
      "cell_type": "code",
      "source": [
        "#Write a code to print all the pre-defined keywords in python using the keyword library:\n",
        "\n",
        "import keyword\n",
        "# Get a list of all python keywords\n",
        "keywords = keyword.kwlist\n",
        "# Print the keywords\n",
        "print(\"Python keywords:\")\n",
        "for keyword in keywords:\n",
        "  print(keyword)\n"
      ],
      "metadata": {
        "id": "rbG9_6bjYLSh"
      },
      "execution_count": null,
      "outputs": []
    },
    {
      "cell_type": "markdown",
      "source": [
        "What are pre-defined keywords in python?\n",
        "In python,pre-defined keywords are reserved words that have special meanings and are used to define the syntax and structure of the language.\n"
      ],
      "metadata": {
        "id": "0wy42E5SY9Rj"
      }
    },
    {
      "cell_type": "code",
      "source": [
        "#Write a program that checks if a given word is python keyword:\n",
        "\n",
        "import keyword\n",
        "\n",
        "def is_python_keyword(word):\n",
        "  return keyword.iskeyword(word)\n",
        "\n",
        "word = input(\"Enter a word: \")\n",
        "if is_python_keyword(word):\n",
        "  print(f\"'{word}' is a python keyword.\")\n",
        "else:\n",
        "  print(f\"'{word}' is not a python keyword.\")\n",
        "\n"
      ],
      "metadata": {
        "id": "-Gl0SVofZcEQ"
      },
      "execution_count": null,
      "outputs": []
    },
    {
      "cell_type": "markdown",
      "source": [
        "Can keywords be used as variables names?\n",
        "No,keywords in python cannot be used as variable names.Keywords are reserved words that have special meanings,and using them as variable names would cause a syntax error.\n"
      ],
      "metadata": {
        "id": "4c520L9-bEpk"
      }
    },
    {
      "cell_type": "code",
      "source": [
        "#Create a list and tuple in python and demonstrate how attempting to change an element works differently for each:\n",
        "#Create a list\n",
        "my_list = [1, 2, 3, 4, 5]\n",
        "print(\"Original list:\", my_list)\n",
        "\n",
        "#Attempting to change an element\n",
        "my_list[0] = 10\n",
        "print(\"List after change:\", my_list)\n",
        "\n",
        "#Create a tuple\n",
        "my_tuple = (1, 2, 3, 4, 5)\n",
        "print(\"Original tuple:\", my_tuple)\n",
        "\n",
        "#Attempting to change an element\n",
        "try:\n",
        "  my_tuple[0] = 10\n",
        " except TypeError as e:\n",
        "    print(\"Error:\", e)\n",
        "  print(\"Tuple after attempt:\", my_tuple)\n"
      ],
      "metadata": {
        "id": "Bi7KVylIbwNA"
      },
      "execution_count": null,
      "outputs": []
    },
    {
      "cell_type": "markdown",
      "source": [
        "What is mutability in python?\n",
        "In python, mutability refers to the ability of an object to change its value after its created. Mutable objects, such as lists and dictionaries,can be modified, whereas immutable objects, such as strings and tuples, cannot be changed once they're created.\n"
      ],
      "metadata": {
        "id": "rDG1TK7heQZI"
      }
    },
    {
      "cell_type": "code",
      "source": [
        "#Write a function to demonstrate the behavior of mutable and immutable arguments:\n",
        "def modify_args(x, y, z):\n",
        "  # x is immutable (integer)\n",
        "  x += 1\n",
        "  print(f\"x inside function: {x}\")\n",
        "\n",
        "  # y is mutable (list)\n",
        "  y.append(4)\n",
        "  print(f\"y inside function: {4}\")\n",
        "\n",
        "  # z is mutable (dictionary)\n",
        "  z[\"c\"] = 3\n",
        "  print(f\"z inside function: {z}\")\n",
        "\n",
        "# Test the function\n",
        "x = 1\n",
        "y =[1, 2, 3]\n",
        "z ={\"a\": 1, \"b\":2}\n",
        "\n",
        "print(\"Before function call:\")\n",
        "print(f\"x: {x}\")\n",
        "print(f\"y: {y}\")\n",
        "print(f\"z: {z}\")\n",
        "\n",
        "modify_args(x, y, z)\n",
        "print(\"\\After function call:\")\n",
        "print(f\"x: {x}\")\n",
        "print(f\"y: {y}\")\n",
        "print(f\": {z}\")\n"
      ],
      "metadata": {
        "id": "8Rl7iuIWfI4t"
      },
      "execution_count": null,
      "outputs": []
    },
    {
      "cell_type": "markdown",
      "source": [
        "What is the difference between \"==\" and \"is\" operators in python?'\n",
        "In Python, the == operator checks for equality of values, whereas the is operator checks for identity, meaning whether both variables refer to the same object in memory.\n"
      ],
      "metadata": {
        "id": "shRgbfOPj1OG"
      }
    },
    {
      "cell_type": "code",
      "source": [
        "#Write a program to demonstrate the use of logical operators:\n",
        "\n",
        "# Logical Operators\n",
        "# AND operator (both condition must be true)\n",
        "x = 5\n",
        "y = 3\n",
        "print(\"x > 3 and y >2:\", x > 3 and y > 2)\n",
        "# OR operator (at least one condition must be true)\n",
        "print(\"x > 3 or y > 5:\", x > 3 or y > 5)\n",
        "#NOT operator (reverse the condition)\n",
        "print(\"not x > 3:\", not x > 3)\n",
        "\n",
        "# Example usage\n",
        "age = 25\n",
        "citizen = True\n",
        "print(\"Eligible to vote:\", age >= 18 and citizen)\n",
        "\n",
        "# Combining logical operators\n",
        "x = 5\n",
        "y = 3\n",
        "z = 2\n",
        "print(\"x >3 and y > 2 or z == 2:\", x > 3 and y > 2 or z == 2)\n",
        "\n",
        "\n"
      ],
      "metadata": {
        "colab": {
          "base_uri": "https://localhost:8080/"
        },
        "id": "ICoTqczWllki",
        "outputId": "abccc702-4a30-4e9c-cc90-593bfca4fa36"
      },
      "execution_count": null,
      "outputs": [
        {
          "output_type": "stream",
          "name": "stdout",
          "text": [
            "x > 3 and y >2: True\n",
            "x > 3 or y > 5: True\n",
            "not x > 3: False\n"
          ]
        }
      ]
    },
    {
      "cell_type": "markdown",
      "source": [
        "What are logical operators in python?\n",
        "In python,logical operators are used to combine conditional statements. The three main logical operators in python are:\n",
        "1. and (returns True if both conditions are True)\n",
        "2. or (returns True if at least one condition is True)\n",
        "3. not (returns the opposite of the condition)\n"
      ],
      "metadata": {
        "id": "KYq5uCiOoGKY"
      }
    },
    {
      "cell_type": "code",
      "source": [
        "#Write a python program to convert user input from string to integer ,float and boolean types:\n",
        "\n",
        "def convert_input():\n",
        "  user_input = input(\"Please enter a value: \")\n",
        "  # Convert to integer\n",
        "  try:\n",
        "    int_value = int(user_input)\n",
        "    print(f\"Integer value: {int_value}\")\n",
        "  except ValueError:\n",
        "    print(\"Cannot convert to float.\")\n",
        "    # Convert to float\n",
        "    try:\n",
        "      float_value = float(user_input)\n",
        "      print(f\"Float value: {float_value}\")\n",
        "    except ValueError:\n",
        "      print(\"Cannot convert to float.\")\n",
        "    # Convert to boolean\n",
        "    bool_value = user_input.lower() == \"true\"\n",
        "    print(f\"Boolean value: {bool_value}\")\n",
        "  convert_input()\n",
        "\n"
      ],
      "metadata": {
        "id": "tgf_V1avpKXC"
      },
      "execution_count": null,
      "outputs": []
    },
    {
      "cell_type": "markdown",
      "source": [
        "What is type casting in python?\n",
        "In Python,type casting in the process of converting a value from one data type from one data type to another. This can be done using built-in functions such as int(), float(), str(), , etc. to convert a value to a specific data type.\n"
      ],
      "metadata": {
        "id": "5m6x2O6grXqV"
      }
    },
    {
      "cell_type": "code",
      "source": [
        "# Write a python program to convert user from string to integer, float, and boolean type:\n",
        "def convert_input():\n",
        "  user_input = input(\"Enter a value:\")\n",
        "  # Convert to integer\n",
        "  try:\n",
        "    int_value = int(user_input)\n",
        "    print(f\"Integer value: {int_value}\")\n",
        "  except ValueError:\n",
        "    print(\"Cannot convert to integer\")\n",
        "   # Convert to float\n",
        "   try:\n",
        "    float_value = float(user_input)\n",
        "    print(f\"Float value: {float_value}\")\n",
        "  except ValueError:\n",
        "    print(\"Cannot convert to float\")\n",
        "  #Convert to boolean\n",
        "  if user_input.lower() == \"true\":\n",
        "    bool_value = True\n",
        "  elif user_input.lower() == \"false\":\n",
        "    bool_value = False\n",
        "  else:\n",
        "    print(\"Cannot convert to boolean\")\n",
        "    bool_value = None\n",
        "  if bool_value is not None:\n",
        "    print(f\"Boolean value: {bool_value}\")\n",
        "  convert_input()\n",
        "\n",
        "\n",
        "\n"
      ],
      "metadata": {
        "id": "EpOblN10txB8"
      },
      "execution_count": null,
      "outputs": []
    },
    {
      "cell_type": "markdown",
      "source": [
        "What is the difference between implicit and explicit type casting?\n",
        "In python, type casting is the process  of converting a value from one data type to another.There are two types of type casting:\n",
        "Implicit:\n",
        "Implicit type casting is automatically done by the programming language without the need for explicit casting.\n",
        "Explicit:\n",
        "Explicit type casting is done manually by the programmer using casting operators or functions."
      ],
      "metadata": {
        "id": "zKJ7fyBYxEIu"
      }
    },
    {
      "cell_type": "code",
      "source": [
        "#Write code to demonstrate type casting with list elements.\n",
        "my_list = [1, 2.5, \"3\"]\n",
        "print(\"Original List:\")\n",
        "print(my_list)\n",
        "#Convert all elements to strings\n",
        "str_list = [str(element) for element in my_list]\n",
        "print(\"\\nList after converting all elements to strings:\")\n",
        "print(str_list)\n",
        "# Convert all elements to integers (will raise error for non-integer values)\n",
        "try:\n",
        "  int_list = [int(element) for element in my_list]\n",
        "  print(\"\\nList after converting all elements to integers:\")\n",
        "  print(int_list)\n",
        "except ValueError as e:\n",
        "  print(\"\\nError:\",e)\n",
        "\n"
      ],
      "metadata": {
        "id": "-gLP7-rZnYP2"
      },
      "execution_count": null,
      "outputs": []
    },
    {
      "cell_type": "markdown",
      "source": [
        "What is the purpose of conditional statements in python?\n",
        "Conditional statements in python are used to execute different block of code based on specific conditions or decision.The purpose of conditional statement is to:\n",
        "1.Make decisions.\n",
        "2.Control flow.\n",
        "3.Handle errors.\n",
        "4.Validate data."
      ],
      "metadata": {
        "id": "ce5UBg_-212L"
      }
    },
    {
      "cell_type": "code",
      "source": [
        "#Write a program that checks if a number is positive, negative, or zero.\n",
        "def check_number(num):\n",
        "  if num > 0:\n",
        "    print(num, \"is a positive number.\")\n",
        "  elif num < 0:\n",
        "    print(num, \"is a negative number.\")\n",
        "  else:\n",
        "    print(num, \"is zero.\")\n",
        "  num = float(input(input(\"Enter a number:\"))\n",
        "  check_number(num)\n",
        "\n"
      ],
      "metadata": {
        "id": "bffhMhj41g6y"
      },
      "execution_count": null,
      "outputs": []
    },
    {
      "cell_type": "markdown",
      "source": [
        "How does the elif statement work?\n",
        "The elif statement in python is a combination of \"else\" and \"if\" statements.It allows you to check another condition if the initial \"if\" condition is false.\n"
      ],
      "metadata": {
        "id": "Z1blNWaf2taH"
      }
    },
    {
      "cell_type": "code",
      "source": [],
      "metadata": {
        "id": "-0DN3BH36i7-"
      },
      "execution_count": null,
      "outputs": []
    },
    {
      "cell_type": "code",
      "source": [
        "#Write a for loop to print numbers from 1 to 10.\n",
        "for i n range(1, 11):\n",
        "  print(i)\n"
      ],
      "metadata": {
        "id": "FtETdZMw4fHv"
      },
      "execution_count": null,
      "outputs": []
    },
    {
      "cell_type": "markdown",
      "source": [
        "What is the difference between for and while loops?\n",
        "The main difference between for and while loops is the way they control the iteration process.\n",
        "For loop:1.Iterate over a sequence.\n",
        "        2.Knows the number of iterations.\n",
        "        3.Uses an iterator.\n",
        "While loop:1.Iterates based on a condition.\n",
        "           2.Does not know the number of iterations.\n",
        "           3.Uses a conditional statement.\n",
        "           "
      ],
      "metadata": {
        "id": "4eZTjZPY5AQ7"
      }
    },
    {
      "cell_type": "code",
      "source": [
        "#Write a python program to find the sum of all even numbers between 1 and 50:\n",
        "# Intialize sum variable\n",
        "even_sum = 0\n",
        "#Iterate over numbers from 1 to 50\n",
        "for num in range(1, 51):\n",
        "  #Check if number is even\n",
        "  if num % 2 == 0:\n",
        "    #Add even number to sum\n",
        "    even_sum += num\n",
        "\n"
      ],
      "metadata": {
        "id": "_2q80Yuj6TYv"
      },
      "execution_count": null,
      "outputs": []
    },
    {
      "cell_type": "markdown",
      "source": [
        "Describe a scenario where a while loop is more suitable than a for loop?\n",
        "Here is a scenario...\n",
        "You have a water bottle with 5 liters of water. You want to pour out 1 liter at a time umtil the bottle is empty.\n",
        "In this scenario, a while loop is suitable because you don't know how  many times you'll need to pour out water(since the bottle has 5 liters and you're pouring out 1liter at a time)\n",
        "The while loop is based on a conditional statement (until the bottle is empty),making it the perfect choice.\n"
      ],
      "metadata": {
        "id": "zmsXCvLH7TQh"
      }
    },
    {
      "cell_type": "code",
      "source": [
        "#Write a program to reverse a string using a while loop:\n",
        "def reverse_string(input_str):\n",
        "  reversed_str = \"\"\n",
        "  i = len(input_str) - 1\n",
        " while i >= 0:\n",
        "  reserved_str += input_str[i]\n",
        "  i -= 1\n",
        "  return reversed_str\n",
        "\n",
        "input_str = input(\"Enter a string:\")\n",
        "print(\"Reserved string:\",\n",
        "      reverse_string(input_str))\n"
      ],
      "metadata": {
        "id": "u2g6PBHw82E0"
      },
      "execution_count": null,
      "outputs": []
    },
    {
      "cell_type": "code",
      "source": [
        "from re import I\n",
        "from re import I\n",
        "#Write a python program to calculate the factorial of a number provided by the user using a while loop:\n",
        "def calculate_factor(n):\n",
        "  factorial = 1\n",
        "  i = 1\n",
        "  while i<= n:\n",
        "    factorial *=I\n",
        "    i += 1\n",
        "  return factorial\n",
        "\n",
        "num = int(input(\"Enter a number:\"))\n",
        "if num < 0:\n",
        "  print(\"Factorial is not defined for negative numbers.\")\n",
        "  else:\n",
        "    print(\"Factorial of\", num, \"is:\", calculate_factorial(num))"
      ],
      "metadata": {
        "id": "htzYxprA-HEU"
      },
      "execution_count": null,
      "outputs": []
    }
  ]
}